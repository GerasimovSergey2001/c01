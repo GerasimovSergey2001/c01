{
 "cells": [
  {
   "cell_type": "code",
   "execution_count": 1,
   "id": "b27a500c-05c4-4688-aef2-4dd682cb0d12",
   "metadata": {},
   "outputs": [],
   "source": [
    "from torch import nn\n",
    "import numpy as np\n",
    "from sklearn.decomposition import PCA\n",
    "from torch.utils.data import DataLoader, Dataset\n",
    "import pandas as pd\n",
    "import matplotlib.pyplot as plt\n",
    "from tqdm import tqdm\n",
    "from PIL import Image\n",
    "from sklearn.manifold import TSNE\n",
    "import seaborn as sns\n",
    "import torch\n",
    "import torch.nn.functional as F\n",
    "import warnings\n",
    "warnings.filterwarnings('ignore')\n",
    "import plotly\n",
    "import plotly.graph_objs as go\n",
    "import plotly.express as px\n",
    "from plotly.subplots import make_subplots\n",
    "from IPython.display import clear_output\n",
    "import plotly.offline as pyo\n",
    "import plotly.io as pio\n",
    "pio.renderers.default = 'iframe'\n",
    "import wandb\n",
    "from sklearn.metrics import classification_report, accuracy_score\n",
    "from ConvTranModel import ConvTranWrapper\n",
    "from torchmetrics import Accuracy"
   ]
  },
  {
   "cell_type": "markdown",
   "id": "be6e6196-11e4-4f4a-adee-1f0e24de5eaa",
   "metadata": {},
   "source": [
    "# Generate Time Series"
   ]
  },
  {
   "cell_type": "code",
   "execution_count": 2,
   "id": "9392474d-4823-4648-af4c-35c36acd56a6",
   "metadata": {},
   "outputs": [
    {
     "name": "stderr",
     "output_type": "stream",
     "text": [
      "100%|██████████| 5000/5000 [00:02<00:00, 2224.51it/s]\n"
     ]
    }
   ],
   "source": [
    "np.random.seed(42)\n",
    "N = 20\n",
    "L = 500\n",
    "n_obs = 5000\n",
    "beta = 3\n",
    "y = np.random.randint(0, 2, size = n_obs)\n",
    "data = []\n",
    "for i in tqdm(range(n_obs)):\n",
    "    data.append(np.random.normal(0, 1 + y[i]*beta, size = (N,L)))\n",
    "data = torch.tensor(data, dtype = torch.float)\n",
    "y = torch.tensor(y)"
   ]
  },
  {
   "cell_type": "code",
   "execution_count": 3,
   "id": "dbe5469f-17e5-4402-befd-702c32a3eabf",
   "metadata": {},
   "outputs": [
    {
     "data": {
      "text/plain": [
       "(torch.Size([5000, 20, 500]), 'torch.FloatTensor')"
      ]
     },
     "execution_count": 3,
     "metadata": {},
     "output_type": "execute_result"
    }
   ],
   "source": [
    "data.size(), data.type()"
   ]
  },
  {
   "cell_type": "code",
   "execution_count": 4,
   "id": "15a667dc-e639-4b61-9d10-0063c7b2b210",
   "metadata": {},
   "outputs": [],
   "source": [
    "class TSC_Data(Dataset):\n",
    "    def __init__(self, data, y):\n",
    "        super().__init__()\n",
    "        self.data = data\n",
    "        self.y = y.long()\n",
    "    def __len__(self):\n",
    "        return len(self.y)\n",
    "    def __getitem__(self, idx):\n",
    "        return self.data[idx], self.y[idx]"
   ]
  },
  {
   "cell_type": "code",
   "execution_count": 5,
   "id": "af202f0d-1ce4-40f4-82f5-9a02d8528807",
   "metadata": {},
   "outputs": [],
   "source": [
    "train_size = 3000\n",
    "val_size = 1000\n",
    "train_set = TSC_Data(data[:train_size], y[:train_size])\n",
    "val_set = TSC_Data(data[train_size:train_size+val_size], y[train_size:train_size+val_size])\n",
    "test_set = TSC_Data(data[train_size+val_size:], y[train_size+val_size:])"
   ]
  },
  {
   "cell_type": "code",
   "execution_count": 6,
   "id": "11219719-f6bb-4316-b63b-9efba012b758",
   "metadata": {},
   "outputs": [],
   "source": [
    "train_loader = DataLoader(train_set, batch_size = 16, shuffle = True)\n",
    "val_loader = DataLoader(train_set, batch_size = 16, shuffle = True)\n",
    "test_loader = DataLoader(test_set, batch_size = 16, shuffle = True)"
   ]
  },
  {
   "cell_type": "code",
   "execution_count": 7,
   "id": "27bbda6b-7aa5-4779-8e10-4a53998787bd",
   "metadata": {},
   "outputs": [
    {
     "name": "stderr",
     "output_type": "stream",
     "text": [
      "\u001b[34m\u001b[1mwandb\u001b[0m: Currently logged in as: \u001b[33mgerasimov-serf\u001b[0m (\u001b[33mzimran-c01-hack\u001b[0m). Use \u001b[1m`wandb login --relogin`\u001b[0m to force relogin\n"
     ]
    },
    {
     "data": {
      "text/plain": [
       "True"
      ]
     },
     "execution_count": 7,
     "metadata": {},
     "output_type": "execute_result"
    }
   ],
   "source": [
    "wandb.login()"
   ]
  },
  {
   "cell_type": "code",
   "execution_count": 8,
   "id": "86496355-844f-4ba9-b01d-1f1ad33ebb4b",
   "metadata": {},
   "outputs": [],
   "source": [
    "project = 'TSC'\n",
    "name = 'ConvTran on toy dataset'"
   ]
  },
  {
   "cell_type": "code",
   "execution_count": 8,
   "id": "dee407cc-1325-4d71-a91a-e31ee11a1b0e",
   "metadata": {},
   "outputs": [],
   "source": [
    "tsc_model = ConvTranWrapper(project, name, data.shape, emb_size = 64, dim_ff = 64, num_heads = 2, \n",
    "                            fix_pos_encode = 'tAPE', rel_pos_encode = 'eRPE')"
   ]
  },
  {
   "cell_type": "code",
   "execution_count": 16,
   "id": "3c1540bb-92df-4d7b-bcb6-ca8721c1d2b0",
   "metadata": {},
   "outputs": [],
   "source": [
    "# tsc_model.fit(train_loader, val_loader)"
   ]
  },
  {
   "cell_type": "code",
   "execution_count": 14,
   "id": "39a46236-6f55-40f7-87f9-d7108ca10237",
   "metadata": {},
   "outputs": [
    {
     "name": "stdout",
     "output_type": "stream",
     "text": [
      "              precision    recall  f1-score   support\n",
      "\n",
      "           0       1.00      1.00      1.00       511\n",
      "           1       1.00      1.00      1.00       489\n",
      "\n",
      "    accuracy                           1.00      1000\n",
      "   macro avg       1.00      1.00      1.00      1000\n",
      "weighted avg       1.00      1.00      1.00      1000\n",
      "\n"
     ]
    }
   ],
   "source": [
    "accuracy, _ = tsc_model.test(test_loader)"
   ]
  },
  {
   "cell_type": "code",
   "execution_count": 15,
   "id": "9325d3c5-54bd-472f-b4e5-307e112e2a26",
   "metadata": {},
   "outputs": [],
   "source": [
    "wandb.finish()"
   ]
  },
  {
   "cell_type": "markdown",
   "id": "462d4971-7e66-446f-bb54-0703bedbb9a8",
   "metadata": {},
   "source": [
    "# Lightning module"
   ]
  },
  {
   "cell_type": "code",
   "execution_count": 9,
   "id": "f1a40638-d7ff-4add-8f6f-0b3c412fcd78",
   "metadata": {},
   "outputs": [],
   "source": [
    "import pytorch_lightning as pl\n",
    "from lightning.pytorch.loggers import WandbLogger\n",
    "from ConvTranModel import ConvTran"
   ]
  },
  {
   "cell_type": "code",
   "execution_count": 11,
   "id": "2f1ebb88-3797-4336-9e88-2b2e4b5d461b",
   "metadata": {},
   "outputs": [],
   "source": [
    "class LitConvTran(pl.LightningModule):\n",
    "    def __init__(self, project, name, data_shape, emb_size = 64, dim_ff = 64, num_heads = 2, \n",
    "                            fix_pos_encode = 'tAPE', rel_pos_encode = 'eRPE', lr = 0.01, num_classes = 2, dropout = 0):\n",
    "        super().__init__()\n",
    "        \n",
    "        # log hyperparameters\n",
    "        self.save_hyperparameters()\n",
    "        self.project, self.name = project, name\n",
    "        self.config = {\n",
    "            'Data_shape' : data_shape, \n",
    "            'emb_size' : emb_size, \n",
    "            'dim_ff' : dim_ff, \n",
    "            'Fix_pos_encode' : fix_pos_encode,\n",
    "            'Rel_pos_encode' : rel_pos_encode,\n",
    "            'num_classes' : num_classes,\n",
    "            'num_heads': num_heads,\n",
    "            'dropout' : dropout, \n",
    "            'lr' : lr,\n",
    "        }\n",
    "        self.convtran = ConvTran(self.config, num_classes)\n",
    "        self.accuracy = Accuracy(task='binary')\n",
    "        \n",
    "    def forward(self, x):\n",
    "        return self.convtran(x)\n",
    "        \n",
    "    def training_step(self, batch, batch_idx):\n",
    "        x, y = batch\n",
    "        logits = self(x)\n",
    "        loss = F.cross_entropy(logits, y)\n",
    "        \n",
    "        # training metrics\n",
    "        preds = torch.argmax(logits, dim=1)\n",
    "        acc = self.accuracy(preds, y)\n",
    "        self.log('train_loss', loss, on_step=True, on_epoch=True, logger=True)\n",
    "        self.log('train_acc', acc, on_step=True, on_epoch=True, logger=True)\n",
    "        return loss\n",
    "        \n",
    "    def validation_step(self, batch, batch_idx):\n",
    "        x, y = batch\n",
    "        logits = self(x)\n",
    "        loss = F.cross_entropy(logits, y)\n",
    "\n",
    "        # validation metrics\n",
    "        preds = torch.argmax(logits, dim=1)\n",
    "        acc = self.accuracy(preds, y)\n",
    "        self.log('val_loss', loss, prog_bar=True)\n",
    "        self.log('val_acc', acc, prog_bar=True)\n",
    "        return loss\n",
    "    def test_step(self, batch, batch_idx):\n",
    "        x, y = batch\n",
    "        logits = self(x)\n",
    "        loss = F.cross_entropy(logits, y)\n",
    "        \n",
    "        # validation metrics\n",
    "        preds = torch.argmax(logits, dim=1)\n",
    "        acc = self.accuracy(preds, y)\n",
    "        self.log('test_loss', loss, prog_bar=True)\n",
    "        self.log('test_acc', acc, prog_bar=True)\n",
    "        return loss\n",
    "    \n",
    "    def configure_optimizers(self):\n",
    "        optimizer = torch.optim.Adam(self.parameters(), lr=self.config['lr'])\n",
    "        return optimizer"
   ]
  },
  {
   "cell_type": "code",
   "execution_count": 12,
   "id": "a922fedb-5b50-47cc-a93c-99b30ba9f511",
   "metadata": {},
   "outputs": [],
   "source": [
    "model = LitConvTran(project, name, data.shape, emb_size = 64, dim_ff = 64, num_heads = 2, \n",
    "                            fix_pos_encode = 'tAPE', rel_pos_encode = 'eRPE', lr = 0.01)\n",
    "\n",
    "# Initialize wandb logger\n",
    "wandb_logger = WandbLogger(project=project, name = name+'Lite',job_type='train')"
   ]
  },
  {
   "cell_type": "code",
   "execution_count": 13,
   "id": "cf6aacb6-da79-421f-b4ad-23bd6f50e28b",
   "metadata": {},
   "outputs": [],
   "source": [
    "# Initialize Callbacks\n",
    "early_stop_callback = pl.callbacks.EarlyStopping(monitor=\"val_loss\")\n",
    "checkpoint_callback = pl.callbacks.ModelCheckpoint()"
   ]
  },
  {
   "cell_type": "code",
   "execution_count": 14,
   "id": "5f55dcd2-5c5f-4fd9-8ae3-6aed92b18d95",
   "metadata": {},
   "outputs": [
    {
     "name": "stderr",
     "output_type": "stream",
     "text": [
      "GPU available: True (cuda), used: True\n",
      "TPU available: False, using: 0 TPU cores\n",
      "IPU available: False, using: 0 IPUs\n",
      "HPU available: False, using: 0 HPUs\n"
     ]
    }
   ],
   "source": [
    "# Initialize a trainer\n",
    "trainer = pl.Trainer(max_epochs=3,\n",
    "                     logger=wandb_logger,\n",
    "                     callbacks=[early_stop_callback,\n",
    "                                checkpoint_callback],\n",
    "                     )"
   ]
  },
  {
   "cell_type": "code",
   "execution_count": 15,
   "id": "b813476e-98d0-4d9c-838e-ed06ff242472",
   "metadata": {},
   "outputs": [
    {
     "name": "stderr",
     "output_type": "stream",
     "text": [
      "You are using a CUDA device ('NVIDIA GeForce RTX 3050 Ti Laptop GPU') that has Tensor Cores. To properly utilize them, you should set `torch.set_float32_matmul_precision('medium' | 'high')` which will trade-off precision for performance. For more details, read https://pytorch.org/docs/stable/generated/torch.set_float32_matmul_precision.html#torch.set_float32_matmul_precision\n"
     ]
    },
    {
     "data": {
      "text/html": [
       "Tracking run with wandb version 0.17.0"
      ],
      "text/plain": [
       "<IPython.core.display.HTML object>"
      ]
     },
     "metadata": {},
     "output_type": "display_data"
    },
    {
     "data": {
      "text/html": [
       "Run data is saved locally in <code>.\\wandb\\run-20240521_154544-yfhyzk7b</code>"
      ],
      "text/plain": [
       "<IPython.core.display.HTML object>"
      ]
     },
     "metadata": {},
     "output_type": "display_data"
    },
    {
     "data": {
      "text/html": [
       "Syncing run <strong><a href='https://wandb.ai/zimran-c01-hack/TSC/runs/yfhyzk7b' target=\"_blank\">ConvTran on toy datasetLite</a></strong> to <a href='https://wandb.ai/zimran-c01-hack/TSC' target=\"_blank\">Weights & Biases</a> (<a href='https://wandb.me/run' target=\"_blank\">docs</a>)<br/>"
      ],
      "text/plain": [
       "<IPython.core.display.HTML object>"
      ]
     },
     "metadata": {},
     "output_type": "display_data"
    },
    {
     "data": {
      "text/html": [
       " View project at <a href='https://wandb.ai/zimran-c01-hack/TSC' target=\"_blank\">https://wandb.ai/zimran-c01-hack/TSC</a>"
      ],
      "text/plain": [
       "<IPython.core.display.HTML object>"
      ]
     },
     "metadata": {},
     "output_type": "display_data"
    },
    {
     "data": {
      "text/html": [
       " View run at <a href='https://wandb.ai/zimran-c01-hack/TSC/runs/yfhyzk7b' target=\"_blank\">https://wandb.ai/zimran-c01-hack/TSC/runs/yfhyzk7b</a>"
      ],
      "text/plain": [
       "<IPython.core.display.HTML object>"
      ]
     },
     "metadata": {},
     "output_type": "display_data"
    },
    {
     "name": "stderr",
     "output_type": "stream",
     "text": [
      "LOCAL_RANK: 0 - CUDA_VISIBLE_DEVICES: [0]\n",
      "\n",
      "  | Name     | Type           | Params\n",
      "--------------------------------------------\n",
      "0 | convtran | ConvTran       | 353 K \n",
      "1 | accuracy | BinaryAccuracy | 0     \n",
      "--------------------------------------------\n",
      "353 K     Trainable params\n",
      "0         Non-trainable params\n",
      "353 K     Total params\n",
      "1.415     Total estimated model params size (MB)\n"
     ]
    },
    {
     "name": "stdout",
     "output_type": "stream",
     "text": [
      "Epoch 0: 100%|██████████| 188/188 [00:17<00:00, 11.04it/s, v_num=zk7b]     \n",
      "Validation: |          | 0/? [00:00<?, ?it/s]\u001b[A\n",
      "Validation:   0%|          | 0/188 [00:00<?, ?it/s]\u001b[A\n",
      "Validation DataLoader 0:   0%|          | 0/188 [00:00<?, ?it/s]\u001b[A\n",
      "Validation DataLoader 0:   1%|          | 1/188 [00:00<00:06, 26.95it/s]\u001b[A\n",
      "Validation DataLoader 0:   1%|          | 2/188 [00:00<00:06, 30.15it/s]\u001b[A\n",
      "Validation DataLoader 0:   2%|▏         | 3/188 [00:00<00:05, 31.74it/s]\u001b[A\n",
      "Validation DataLoader 0:   2%|▏         | 4/188 [00:00<00:05, 33.01it/s]\u001b[A\n",
      "Validation DataLoader 0:   3%|▎         | 5/188 [00:00<00:05, 33.07it/s]\u001b[A\n",
      "Validation DataLoader 0:   3%|▎         | 6/188 [00:00<00:05, 33.20it/s]\u001b[A\n",
      "Validation DataLoader 0:   4%|▎         | 7/188 [00:00<00:05, 33.63it/s]\u001b[A\n",
      "Validation DataLoader 0:   4%|▍         | 8/188 [00:00<00:05, 33.70it/s]\u001b[A\n",
      "Validation DataLoader 0:   5%|▍         | 9/188 [00:00<00:05, 33.83it/s]\u001b[A\n",
      "Validation DataLoader 0:   5%|▌         | 10/188 [00:00<00:05, 33.85it/s]\u001b[A\n",
      "Validation DataLoader 0:   6%|▌         | 11/188 [00:00<00:05, 34.31it/s]\u001b[A\n",
      "Validation DataLoader 0:   6%|▋         | 12/188 [00:00<00:05, 34.04it/s]\u001b[A\n",
      "Validation DataLoader 0:   7%|▋         | 13/188 [00:00<00:05, 34.29it/s]\u001b[A\n",
      "Validation DataLoader 0:   7%|▋         | 14/188 [00:00<00:05, 34.73it/s]\u001b[A\n",
      "Validation DataLoader 0:   8%|▊         | 15/188 [00:00<00:05, 34.17it/s]\u001b[A\n",
      "Validation DataLoader 0:   9%|▊         | 16/188 [00:00<00:04, 34.60it/s]\u001b[A\n",
      "Validation DataLoader 0:   9%|▉         | 17/188 [00:00<00:04, 34.99it/s]\u001b[A\n",
      "Validation DataLoader 0:  10%|▉         | 18/188 [00:00<00:04, 35.32it/s]\u001b[A\n",
      "Validation DataLoader 0:  10%|█         | 19/188 [00:00<00:04, 35.61it/s]\u001b[A\n",
      "Validation DataLoader 0:  11%|█         | 20/188 [00:00<00:04, 35.79it/s]\u001b[A\n",
      "Validation DataLoader 0:  11%|█         | 21/188 [00:00<00:04, 36.02it/s]\u001b[A\n",
      "Validation DataLoader 0:  12%|█▏        | 22/188 [00:00<00:04, 36.07it/s]\u001b[A\n",
      "Validation DataLoader 0:  12%|█▏        | 23/188 [00:00<00:04, 35.99it/s]\u001b[A\n",
      "Validation DataLoader 0:  13%|█▎        | 24/188 [00:00<00:04, 36.19it/s]\u001b[A\n",
      "Validation DataLoader 0:  13%|█▎        | 25/188 [00:00<00:04, 36.39it/s]\u001b[A\n",
      "Validation DataLoader 0:  14%|█▍        | 26/188 [00:00<00:04, 36.68it/s]\u001b[A\n",
      "Validation DataLoader 0:  14%|█▍        | 27/188 [00:00<00:04, 36.81it/s]\u001b[A\n",
      "Validation DataLoader 0:  15%|█▍        | 28/188 [00:00<00:04, 37.08it/s]\u001b[A\n",
      "Validation DataLoader 0:  15%|█▌        | 29/188 [00:00<00:04, 37.03it/s]\u001b[A\n",
      "Validation DataLoader 0:  16%|█▌        | 30/188 [00:00<00:04, 37.07it/s]\u001b[A\n",
      "Validation DataLoader 0:  16%|█▋        | 31/188 [00:00<00:04, 37.22it/s]\u001b[A\n",
      "Validation DataLoader 0:  17%|█▋        | 32/188 [00:00<00:04, 37.38it/s]\u001b[A\n",
      "Validation DataLoader 0:  18%|█▊        | 33/188 [00:00<00:04, 37.45it/s]\u001b[A\n",
      "Validation DataLoader 0:  18%|█▊        | 34/188 [00:00<00:04, 37.42it/s]\u001b[A\n",
      "Validation DataLoader 0:  19%|█▊        | 35/188 [00:00<00:04, 37.44it/s]\u001b[A\n",
      "Validation DataLoader 0:  19%|█▉        | 36/188 [00:00<00:04, 37.50it/s]\u001b[A\n",
      "Validation DataLoader 0:  20%|█▉        | 37/188 [00:00<00:04, 37.50it/s]\u001b[A\n",
      "Validation DataLoader 0:  20%|██        | 38/188 [00:01<00:03, 37.50it/s]\u001b[A\n",
      "Validation DataLoader 0:  21%|██        | 39/188 [00:01<00:03, 37.29it/s]\u001b[A\n",
      "Validation DataLoader 0:  21%|██▏       | 40/188 [00:01<00:03, 37.23it/s]\u001b[A\n",
      "Validation DataLoader 0:  22%|██▏       | 41/188 [00:01<00:03, 37.21it/s]\u001b[A\n",
      "Validation DataLoader 0:  22%|██▏       | 42/188 [00:01<00:03, 36.93it/s]\u001b[A\n",
      "Validation DataLoader 0:  23%|██▎       | 43/188 [00:01<00:03, 36.94it/s]\u001b[A\n",
      "Validation DataLoader 0:  23%|██▎       | 44/188 [00:01<00:03, 37.01it/s]\u001b[A\n",
      "Validation DataLoader 0:  24%|██▍       | 45/188 [00:01<00:03, 37.10it/s]\u001b[A\n",
      "Validation DataLoader 0:  24%|██▍       | 46/188 [00:01<00:03, 37.13it/s]\u001b[A\n",
      "Validation DataLoader 0:  25%|██▌       | 47/188 [00:01<00:03, 37.13it/s]\u001b[A\n",
      "Validation DataLoader 0:  26%|██▌       | 48/188 [00:01<00:03, 37.07it/s]\u001b[A\n",
      "Validation DataLoader 0:  26%|██▌       | 49/188 [00:01<00:03, 37.01it/s]\u001b[A\n",
      "Validation DataLoader 0:  27%|██▋       | 50/188 [00:01<00:03, 36.89it/s]\u001b[A\n",
      "Validation DataLoader 0:  27%|██▋       | 51/188 [00:01<00:03, 36.92it/s]\u001b[A\n",
      "Validation DataLoader 0:  28%|██▊       | 52/188 [00:01<00:03, 36.91it/s]\u001b[A\n",
      "Validation DataLoader 0:  28%|██▊       | 53/188 [00:01<00:03, 37.00it/s]\u001b[A\n",
      "Validation DataLoader 0:  29%|██▊       | 54/188 [00:01<00:03, 37.08it/s]\u001b[A\n",
      "Validation DataLoader 0:  29%|██▉       | 55/188 [00:01<00:03, 37.11it/s]\u001b[A\n",
      "Validation DataLoader 0:  30%|██▉       | 56/188 [00:01<00:03, 37.18it/s]\u001b[A\n",
      "Validation DataLoader 0:  30%|███       | 57/188 [00:01<00:03, 37.25it/s]\u001b[A\n",
      "Validation DataLoader 0:  31%|███       | 58/188 [00:01<00:03, 37.28it/s]\u001b[A\n",
      "Validation DataLoader 0:  31%|███▏      | 59/188 [00:01<00:03, 37.32it/s]\u001b[A\n",
      "Validation DataLoader 0:  32%|███▏      | 60/188 [00:01<00:03, 37.34it/s]\u001b[A\n",
      "Validation DataLoader 0:  32%|███▏      | 61/188 [00:01<00:03, 37.35it/s]\u001b[A\n",
      "Validation DataLoader 0:  33%|███▎      | 62/188 [00:01<00:03, 37.37it/s]\u001b[A\n",
      "Validation DataLoader 0:  34%|███▎      | 63/188 [00:01<00:03, 37.35it/s]\u001b[A\n",
      "Validation DataLoader 0:  34%|███▍      | 64/188 [00:01<00:03, 37.28it/s]\u001b[A\n",
      "Validation DataLoader 0:  35%|███▍      | 65/188 [00:01<00:03, 37.17it/s]\u001b[A\n",
      "Validation DataLoader 0:  35%|███▌      | 66/188 [00:01<00:03, 37.20it/s]\u001b[A\n",
      "Validation DataLoader 0:  36%|███▌      | 67/188 [00:01<00:03, 37.21it/s]\u001b[A\n",
      "Validation DataLoader 0:  36%|███▌      | 68/188 [00:01<00:03, 37.23it/s]\u001b[A\n",
      "Validation DataLoader 0:  37%|███▋      | 69/188 [00:01<00:03, 37.20it/s]\u001b[A\n",
      "Validation DataLoader 0:  37%|███▋      | 70/188 [00:01<00:03, 37.22it/s]\u001b[A\n",
      "Validation DataLoader 0:  38%|███▊      | 71/188 [00:01<00:03, 37.18it/s]\u001b[A\n",
      "Validation DataLoader 0:  38%|███▊      | 72/188 [00:01<00:03, 37.14it/s]\u001b[A\n",
      "Validation DataLoader 0:  39%|███▉      | 73/188 [00:01<00:03, 37.08it/s]\u001b[A\n",
      "Validation DataLoader 0:  39%|███▉      | 74/188 [00:01<00:03, 37.09it/s]\u001b[A\n",
      "Validation DataLoader 0:  40%|███▉      | 75/188 [00:02<00:03, 37.01it/s]\u001b[A\n",
      "Validation DataLoader 0:  40%|████      | 76/188 [00:02<00:03, 37.02it/s]\u001b[A\n",
      "Validation DataLoader 0:  41%|████      | 77/188 [00:02<00:02, 37.01it/s]\u001b[A\n",
      "Validation DataLoader 0:  41%|████▏     | 78/188 [00:02<00:02, 37.06it/s]\u001b[A\n",
      "Validation DataLoader 0:  42%|████▏     | 79/188 [00:02<00:02, 37.06it/s]\u001b[A\n",
      "Validation DataLoader 0:  43%|████▎     | 80/188 [00:02<00:02, 37.10it/s]\u001b[A\n",
      "Validation DataLoader 0:  43%|████▎     | 81/188 [00:02<00:02, 37.11it/s]\u001b[A\n",
      "Validation DataLoader 0:  44%|████▎     | 82/188 [00:02<00:02, 37.14it/s]\u001b[A\n",
      "Validation DataLoader 0:  44%|████▍     | 83/188 [00:02<00:02, 37.14it/s]\u001b[A\n",
      "Validation DataLoader 0:  45%|████▍     | 84/188 [00:02<00:02, 37.15it/s]\u001b[A\n",
      "Validation DataLoader 0:  45%|████▌     | 85/188 [00:02<00:02, 37.16it/s]\u001b[A\n",
      "Validation DataLoader 0:  46%|████▌     | 86/188 [00:02<00:02, 37.14it/s]\u001b[A\n",
      "Validation DataLoader 0:  46%|████▋     | 87/188 [00:02<00:02, 37.14it/s]\u001b[A\n",
      "Validation DataLoader 0:  47%|████▋     | 88/188 [00:02<00:02, 37.18it/s]\u001b[A\n",
      "Validation DataLoader 0:  47%|████▋     | 89/188 [00:02<00:02, 37.19it/s]\u001b[A\n",
      "Validation DataLoader 0:  48%|████▊     | 90/188 [00:02<00:02, 37.21it/s]\u001b[A\n",
      "Validation DataLoader 0:  48%|████▊     | 91/188 [00:02<00:02, 37.26it/s]\u001b[A\n",
      "Validation DataLoader 0:  49%|████▉     | 92/188 [00:02<00:02, 37.31it/s]\u001b[A\n",
      "Validation DataLoader 0:  49%|████▉     | 93/188 [00:02<00:02, 37.34it/s]\u001b[A\n",
      "Validation DataLoader 0:  50%|█████     | 94/188 [00:02<00:02, 37.39it/s]\u001b[A\n",
      "Validation DataLoader 0:  51%|█████     | 95/188 [00:02<00:02, 37.43it/s]\u001b[A\n",
      "Validation DataLoader 0:  51%|█████     | 96/188 [00:02<00:02, 37.47it/s]\u001b[A\n",
      "Validation DataLoader 0:  52%|█████▏    | 97/188 [00:02<00:02, 37.51it/s]\u001b[A\n",
      "Validation DataLoader 0:  52%|█████▏    | 98/188 [00:02<00:02, 37.56it/s]\u001b[A\n",
      "Validation DataLoader 0:  53%|█████▎    | 99/188 [00:02<00:02, 37.60it/s]\u001b[A\n",
      "Validation DataLoader 0:  53%|█████▎    | 100/188 [00:02<00:02, 37.65it/s]\u001b[A\n",
      "Validation DataLoader 0:  54%|█████▎    | 101/188 [00:02<00:02, 37.70it/s]\u001b[A\n",
      "Validation DataLoader 0:  54%|█████▍    | 102/188 [00:02<00:02, 37.73it/s]\u001b[A\n",
      "Validation DataLoader 0:  55%|█████▍    | 103/188 [00:02<00:02, 37.75it/s]\u001b[A\n",
      "Validation DataLoader 0:  55%|█████▌    | 104/188 [00:02<00:02, 37.82it/s]\u001b[A\n",
      "Validation DataLoader 0:  56%|█████▌    | 105/188 [00:02<00:02, 37.83it/s]\u001b[A\n",
      "Validation DataLoader 0:  56%|█████▋    | 106/188 [00:02<00:02, 37.90it/s]\u001b[A\n",
      "Validation DataLoader 0:  57%|█████▋    | 107/188 [00:02<00:02, 37.92it/s]\u001b[A\n",
      "Validation DataLoader 0:  57%|█████▋    | 108/188 [00:02<00:02, 37.94it/s]\u001b[A\n",
      "Validation DataLoader 0:  58%|█████▊    | 109/188 [00:02<00:02, 37.98it/s]\u001b[A\n",
      "Validation DataLoader 0:  59%|█████▊    | 110/188 [00:02<00:02, 37.98it/s]\u001b[A\n",
      "Validation DataLoader 0:  59%|█████▉    | 111/188 [00:02<00:02, 38.02it/s]\u001b[A\n",
      "Validation DataLoader 0:  60%|█████▉    | 112/188 [00:02<00:01, 38.03it/s]\u001b[A\n",
      "Validation DataLoader 0:  60%|██████    | 113/188 [00:02<00:01, 38.05it/s]\u001b[A\n",
      "Validation DataLoader 0:  61%|██████    | 114/188 [00:02<00:01, 38.11it/s]\u001b[A\n",
      "Validation DataLoader 0:  61%|██████    | 115/188 [00:03<00:01, 38.15it/s]\u001b[A\n",
      "Validation DataLoader 0:  62%|██████▏   | 116/188 [00:03<00:01, 38.13it/s]\u001b[A\n",
      "Validation DataLoader 0:  62%|██████▏   | 117/188 [00:03<00:01, 38.13it/s]\u001b[A\n",
      "Validation DataLoader 0:  63%|██████▎   | 118/188 [00:03<00:01, 38.11it/s]\u001b[A\n",
      "Validation DataLoader 0:  63%|██████▎   | 119/188 [00:03<00:01, 38.10it/s]\u001b[A\n",
      "Validation DataLoader 0:  64%|██████▍   | 120/188 [00:03<00:01, 38.13it/s]\u001b[A\n",
      "Validation DataLoader 0:  64%|██████▍   | 121/188 [00:03<00:01, 38.17it/s]\u001b[A\n",
      "Validation DataLoader 0:  65%|██████▍   | 122/188 [00:03<00:01, 38.22it/s]\u001b[A\n",
      "Validation DataLoader 0:  65%|██████▌   | 123/188 [00:03<00:01, 38.25it/s]\u001b[A\n",
      "Validation DataLoader 0:  66%|██████▌   | 124/188 [00:03<00:01, 38.26it/s]\u001b[A\n",
      "Validation DataLoader 0:  66%|██████▋   | 125/188 [00:03<00:01, 38.31it/s]\u001b[A\n",
      "Validation DataLoader 0:  67%|██████▋   | 126/188 [00:03<00:01, 38.32it/s]\u001b[A\n",
      "Validation DataLoader 0:  68%|██████▊   | 127/188 [00:03<00:01, 38.36it/s]\u001b[A\n",
      "Validation DataLoader 0:  68%|██████▊   | 128/188 [00:03<00:01, 38.37it/s]\u001b[A\n",
      "Validation DataLoader 0:  69%|██████▊   | 129/188 [00:03<00:01, 38.39it/s]\u001b[A\n",
      "Validation DataLoader 0:  69%|██████▉   | 130/188 [00:03<00:01, 38.43it/s]\u001b[A\n",
      "Validation DataLoader 0:  70%|██████▉   | 131/188 [00:03<00:01, 38.46it/s]\u001b[A\n",
      "Validation DataLoader 0:  70%|███████   | 132/188 [00:03<00:01, 38.50it/s]\u001b[A\n",
      "Validation DataLoader 0:  71%|███████   | 133/188 [00:03<00:01, 38.54it/s]\u001b[A\n",
      "Validation DataLoader 0:  71%|███████▏  | 134/188 [00:03<00:01, 38.60it/s]\u001b[A\n",
      "Validation DataLoader 0:  72%|███████▏  | 135/188 [00:03<00:01, 38.62it/s]\u001b[A\n",
      "Validation DataLoader 0:  72%|███████▏  | 136/188 [00:03<00:01, 38.65it/s]\u001b[A\n",
      "Validation DataLoader 0:  73%|███████▎  | 137/188 [00:03<00:01, 38.70it/s]\u001b[A\n",
      "Validation DataLoader 0:  73%|███████▎  | 138/188 [00:03<00:01, 38.74it/s]\u001b[A\n",
      "Validation DataLoader 0:  74%|███████▍  | 139/188 [00:03<00:01, 38.78it/s]\u001b[A\n",
      "Validation DataLoader 0:  74%|███████▍  | 140/188 [00:03<00:01, 38.82it/s]\u001b[A\n",
      "Validation DataLoader 0:  75%|███████▌  | 141/188 [00:03<00:01, 38.87it/s]\u001b[A\n",
      "Validation DataLoader 0:  76%|███████▌  | 142/188 [00:03<00:01, 38.90it/s]\u001b[A\n",
      "Validation DataLoader 0:  76%|███████▌  | 143/188 [00:03<00:01, 38.94it/s]\u001b[A\n",
      "Validation DataLoader 0:  77%|███████▋  | 144/188 [00:03<00:01, 38.98it/s]\u001b[A\n",
      "Validation DataLoader 0:  77%|███████▋  | 145/188 [00:03<00:01, 38.98it/s]\u001b[A\n",
      "Validation DataLoader 0:  78%|███████▊  | 146/188 [00:03<00:01, 39.01it/s]\u001b[A\n",
      "Validation DataLoader 0:  78%|███████▊  | 147/188 [00:03<00:01, 39.02it/s]\u001b[A\n",
      "Validation DataLoader 0:  79%|███████▊  | 148/188 [00:03<00:01, 39.03it/s]\u001b[A\n",
      "Validation DataLoader 0:  79%|███████▉  | 149/188 [00:03<00:00, 39.05it/s]\u001b[A\n",
      "Validation DataLoader 0:  80%|███████▉  | 150/188 [00:03<00:00, 39.06it/s]\u001b[A\n",
      "Validation DataLoader 0:  80%|████████  | 151/188 [00:03<00:00, 39.10it/s]\u001b[A\n",
      "Validation DataLoader 0:  81%|████████  | 152/188 [00:03<00:00, 39.10it/s]\u001b[A\n",
      "Validation DataLoader 0:  81%|████████▏ | 153/188 [00:03<00:00, 39.11it/s]\u001b[A\n",
      "Validation DataLoader 0:  82%|████████▏ | 154/188 [00:03<00:00, 39.10it/s]\u001b[A\n",
      "Validation DataLoader 0:  82%|████████▏ | 155/188 [00:03<00:00, 39.09it/s]\u001b[A\n",
      "Validation DataLoader 0:  83%|████████▎ | 156/188 [00:03<00:00, 39.08it/s]\u001b[A\n",
      "Validation DataLoader 0:  84%|████████▎ | 157/188 [00:04<00:00, 39.09it/s]\u001b[A\n",
      "Validation DataLoader 0:  84%|████████▍ | 158/188 [00:04<00:00, 39.08it/s]\u001b[A\n",
      "Validation DataLoader 0:  85%|████████▍ | 159/188 [00:04<00:00, 39.10it/s]\u001b[A\n",
      "Validation DataLoader 0:  85%|████████▌ | 160/188 [00:04<00:00, 39.05it/s]\u001b[A\n",
      "Validation DataLoader 0:  86%|████████▌ | 161/188 [00:04<00:00, 39.03it/s]\u001b[A\n",
      "Validation DataLoader 0:  86%|████████▌ | 162/188 [00:04<00:00, 39.01it/s]\u001b[A\n",
      "Validation DataLoader 0:  87%|████████▋ | 163/188 [00:04<00:00, 39.04it/s]\u001b[A\n",
      "Validation DataLoader 0:  87%|████████▋ | 164/188 [00:04<00:00, 39.05it/s]\u001b[A\n",
      "Validation DataLoader 0:  88%|████████▊ | 165/188 [00:04<00:00, 39.06it/s]\u001b[A\n",
      "Validation DataLoader 0:  88%|████████▊ | 166/188 [00:04<00:00, 39.05it/s]\u001b[A\n",
      "Validation DataLoader 0:  89%|████████▉ | 167/188 [00:04<00:00, 39.06it/s]\u001b[A\n",
      "Validation DataLoader 0:  89%|████████▉ | 168/188 [00:04<00:00, 39.06it/s]\u001b[A\n",
      "Validation DataLoader 0:  90%|████████▉ | 169/188 [00:04<00:00, 39.09it/s]\u001b[A\n",
      "Validation DataLoader 0:  90%|█████████ | 170/188 [00:04<00:00, 39.12it/s]\u001b[A\n",
      "Validation DataLoader 0:  91%|█████████ | 171/188 [00:04<00:00, 39.16it/s]\u001b[A\n",
      "Validation DataLoader 0:  91%|█████████▏| 172/188 [00:04<00:00, 39.20it/s]\u001b[A\n",
      "Validation DataLoader 0:  92%|█████████▏| 173/188 [00:04<00:00, 39.25it/s]\u001b[A\n",
      "Validation DataLoader 0:  93%|█████████▎| 174/188 [00:04<00:00, 39.29it/s]\u001b[A\n",
      "Validation DataLoader 0:  93%|█████████▎| 175/188 [00:04<00:00, 39.31it/s]\u001b[A\n",
      "Validation DataLoader 0:  94%|█████████▎| 176/188 [00:04<00:00, 39.32it/s]\u001b[A\n",
      "Validation DataLoader 0:  94%|█████████▍| 177/188 [00:04<00:00, 39.35it/s]\u001b[A\n",
      "Validation DataLoader 0:  95%|█████████▍| 178/188 [00:04<00:00, 39.37it/s]\u001b[A\n",
      "Validation DataLoader 0:  95%|█████████▌| 179/188 [00:04<00:00, 39.40it/s]\u001b[A\n",
      "Validation DataLoader 0:  96%|█████████▌| 180/188 [00:04<00:00, 39.40it/s]\u001b[A\n",
      "Validation DataLoader 0:  96%|█████████▋| 181/188 [00:04<00:00, 39.41it/s]\u001b[A\n",
      "Validation DataLoader 0:  97%|█████████▋| 182/188 [00:04<00:00, 39.39it/s]\u001b[A\n",
      "Validation DataLoader 0:  97%|█████████▋| 183/188 [00:04<00:00, 39.40it/s]\u001b[A\n",
      "Validation DataLoader 0:  98%|█████████▊| 184/188 [00:04<00:00, 39.43it/s]\u001b[A\n",
      "Validation DataLoader 0:  98%|█████████▊| 185/188 [00:04<00:00, 39.45it/s]\u001b[A\n",
      "Validation DataLoader 0:  99%|█████████▉| 186/188 [00:04<00:00, 39.42it/s]\u001b[A\n",
      "Validation DataLoader 0:  99%|█████████▉| 187/188 [00:04<00:00, 39.45it/s]\u001b[A\n",
      "Validation DataLoader 0: 100%|██████████| 188/188 [00:04<00:00, 39.50it/s]\u001b[A\n",
      "Epoch 1: 100%|██████████| 188/188 [00:16<00:00, 11.62it/s, v_num=zk7b, val_loss=3.02e-5, val_acc=1.000]\n",
      "Validation: |          | 0/? [00:00<?, ?it/s]\u001b[A\n",
      "Validation:   0%|          | 0/188 [00:00<?, ?it/s]\u001b[A\n",
      "Validation DataLoader 0:   0%|          | 0/188 [00:00<?, ?it/s]\u001b[A\n",
      "Validation DataLoader 0:   1%|          | 1/188 [00:00<00:06, 30.41it/s]\u001b[A\n",
      "Validation DataLoader 0:   1%|          | 2/188 [00:00<00:05, 31.81it/s]\u001b[A\n",
      "Validation DataLoader 0:   2%|▏         | 3/188 [00:00<00:05, 32.76it/s]\u001b[A\n",
      "Validation DataLoader 0:   2%|▏         | 4/188 [00:00<00:05, 33.52it/s]\u001b[A\n",
      "Validation DataLoader 0:   3%|▎         | 5/188 [00:00<00:05, 33.87it/s]\u001b[A\n",
      "Validation DataLoader 0:   3%|▎         | 6/188 [00:00<00:05, 34.18it/s]\u001b[A\n",
      "Validation DataLoader 0:   4%|▎         | 7/188 [00:00<00:05, 34.33it/s]\u001b[A\n",
      "Validation DataLoader 0:   4%|▍         | 8/188 [00:00<00:05, 34.56it/s]\u001b[A\n",
      "Validation DataLoader 0:   5%|▍         | 9/188 [00:00<00:05, 34.98it/s]\u001b[A\n",
      "Validation DataLoader 0:   5%|▌         | 10/188 [00:00<00:05, 35.33it/s]\u001b[A\n",
      "Validation DataLoader 0:   6%|▌         | 11/188 [00:00<00:04, 35.47it/s]\u001b[A\n",
      "Validation DataLoader 0:   6%|▋         | 12/188 [00:00<00:04, 35.65it/s]\u001b[A\n",
      "Validation DataLoader 0:   7%|▋         | 13/188 [00:00<00:04, 35.28it/s]\u001b[A\n",
      "Validation DataLoader 0:   7%|▋         | 14/188 [00:00<00:04, 35.46it/s]\u001b[A\n",
      "Validation DataLoader 0:   8%|▊         | 15/188 [00:00<00:04, 35.68it/s]\u001b[A\n",
      "Validation DataLoader 0:   9%|▊         | 16/188 [00:00<00:04, 35.62it/s]\u001b[A\n",
      "Validation DataLoader 0:   9%|▉         | 17/188 [00:00<00:04, 35.39it/s]\u001b[A\n",
      "Validation DataLoader 0:  10%|▉         | 18/188 [00:00<00:04, 35.49it/s]\u001b[A\n",
      "Validation DataLoader 0:  10%|█         | 19/188 [00:00<00:04, 35.56it/s]\u001b[A\n",
      "Validation DataLoader 0:  11%|█         | 20/188 [00:00<00:04, 35.47it/s]\u001b[A\n",
      "Validation DataLoader 0:  11%|█         | 21/188 [00:00<00:04, 35.68it/s]\u001b[A\n",
      "Validation DataLoader 0:  12%|█▏        | 22/188 [00:00<00:04, 35.67it/s]\u001b[A\n",
      "Validation DataLoader 0:  12%|█▏        | 23/188 [00:00<00:04, 35.81it/s]\u001b[A\n",
      "Validation DataLoader 0:  13%|█▎        | 24/188 [00:00<00:04, 35.88it/s]\u001b[A\n",
      "Validation DataLoader 0:  13%|█▎        | 25/188 [00:00<00:04, 35.89it/s]\u001b[A\n",
      "Validation DataLoader 0:  14%|█▍        | 26/188 [00:00<00:04, 36.03it/s]\u001b[A\n",
      "Validation DataLoader 0:  14%|█▍        | 27/188 [00:00<00:04, 36.04it/s]\u001b[A\n",
      "Validation DataLoader 0:  15%|█▍        | 28/188 [00:00<00:04, 35.87it/s]\u001b[A\n",
      "Validation DataLoader 0:  15%|█▌        | 29/188 [00:00<00:04, 35.26it/s]\u001b[A\n",
      "Validation DataLoader 0:  16%|█▌        | 30/188 [00:00<00:04, 35.06it/s]\u001b[A\n",
      "Validation DataLoader 0:  16%|█▋        | 31/188 [00:00<00:04, 34.68it/s]\u001b[A\n",
      "Validation DataLoader 0:  17%|█▋        | 32/188 [00:00<00:04, 34.69it/s]\u001b[A\n",
      "Validation DataLoader 0:  18%|█▊        | 33/188 [00:00<00:04, 34.86it/s]\u001b[A\n",
      "Validation DataLoader 0:  18%|█▊        | 34/188 [00:00<00:04, 35.00it/s]\u001b[A\n",
      "Validation DataLoader 0:  19%|█▊        | 35/188 [00:00<00:04, 35.01it/s]\u001b[A\n",
      "Validation DataLoader 0:  19%|█▉        | 36/188 [00:01<00:04, 35.17it/s]\u001b[A\n",
      "Validation DataLoader 0:  20%|█▉        | 37/188 [00:01<00:04, 35.27it/s]\u001b[A\n",
      "Validation DataLoader 0:  20%|██        | 38/188 [00:01<00:04, 35.49it/s]\u001b[A\n",
      "Validation DataLoader 0:  21%|██        | 39/188 [00:01<00:04, 35.36it/s]\u001b[A\n",
      "Validation DataLoader 0:  21%|██▏       | 40/188 [00:01<00:04, 35.57it/s]\u001b[A\n",
      "Validation DataLoader 0:  22%|██▏       | 41/188 [00:01<00:04, 35.69it/s]\u001b[A\n",
      "Validation DataLoader 0:  22%|██▏       | 42/188 [00:01<00:04, 35.77it/s]\u001b[A\n",
      "Validation DataLoader 0:  23%|██▎       | 43/188 [00:01<00:04, 35.88it/s]\u001b[A\n",
      "Validation DataLoader 0:  23%|██▎       | 44/188 [00:01<00:03, 36.02it/s]\u001b[A\n",
      "Validation DataLoader 0:  24%|██▍       | 45/188 [00:01<00:03, 36.14it/s]\u001b[A\n",
      "Validation DataLoader 0:  24%|██▍       | 46/188 [00:01<00:03, 36.25it/s]\u001b[A\n",
      "Validation DataLoader 0:  25%|██▌       | 47/188 [00:01<00:03, 36.32it/s]\u001b[A\n",
      "Validation DataLoader 0:  26%|██▌       | 48/188 [00:01<00:03, 36.50it/s]\u001b[A\n",
      "Validation DataLoader 0:  26%|██▌       | 49/188 [00:01<00:03, 36.60it/s]\u001b[A\n",
      "Validation DataLoader 0:  27%|██▋       | 50/188 [00:01<00:03, 36.68it/s]\u001b[A\n",
      "Validation DataLoader 0:  27%|██▋       | 51/188 [00:01<00:03, 36.82it/s]\u001b[A\n",
      "Validation DataLoader 0:  28%|██▊       | 52/188 [00:01<00:03, 36.85it/s]\u001b[A\n",
      "Validation DataLoader 0:  28%|██▊       | 53/188 [00:01<00:03, 36.93it/s]\u001b[A\n",
      "Validation DataLoader 0:  29%|██▊       | 54/188 [00:01<00:03, 37.12it/s]\u001b[A\n",
      "Validation DataLoader 0:  29%|██▉       | 55/188 [00:01<00:03, 37.28it/s]\u001b[A\n",
      "Validation DataLoader 0:  30%|██▉       | 56/188 [00:01<00:03, 37.32it/s]\u001b[A\n",
      "Validation DataLoader 0:  30%|███       | 57/188 [00:01<00:03, 37.46it/s]\u001b[A\n",
      "Validation DataLoader 0:  31%|███       | 58/188 [00:01<00:03, 37.56it/s]\u001b[A\n",
      "Validation DataLoader 0:  31%|███▏      | 59/188 [00:01<00:03, 37.74it/s]\u001b[A\n",
      "Validation DataLoader 0:  32%|███▏      | 60/188 [00:01<00:03, 37.87it/s]\u001b[A\n",
      "Validation DataLoader 0:  32%|███▏      | 61/188 [00:01<00:03, 38.01it/s]\u001b[A\n",
      "Validation DataLoader 0:  33%|███▎      | 62/188 [00:01<00:03, 38.13it/s]\u001b[A\n",
      "Validation DataLoader 0:  34%|███▎      | 63/188 [00:01<00:03, 38.26it/s]\u001b[A\n",
      "Validation DataLoader 0:  34%|███▍      | 64/188 [00:01<00:03, 38.40it/s]\u001b[A\n",
      "Validation DataLoader 0:  35%|███▍      | 65/188 [00:01<00:03, 38.54it/s]\u001b[A\n",
      "Validation DataLoader 0:  35%|███▌      | 66/188 [00:01<00:03, 38.64it/s]\u001b[A\n",
      "Validation DataLoader 0:  36%|███▌      | 67/188 [00:01<00:03, 38.79it/s]\u001b[A\n",
      "Validation DataLoader 0:  36%|███▌      | 68/188 [00:01<00:03, 38.86it/s]\u001b[A\n",
      "Validation DataLoader 0:  37%|███▋      | 69/188 [00:01<00:03, 38.99it/s]\u001b[A\n",
      "Validation DataLoader 0:  37%|███▋      | 70/188 [00:01<00:03, 39.10it/s]\u001b[A\n",
      "Validation DataLoader 0:  38%|███▊      | 71/188 [00:01<00:02, 39.16it/s]\u001b[A\n",
      "Validation DataLoader 0:  38%|███▊      | 72/188 [00:01<00:02, 39.23it/s]\u001b[A\n",
      "Validation DataLoader 0:  39%|███▉      | 73/188 [00:01<00:02, 39.25it/s]\u001b[A\n",
      "Validation DataLoader 0:  39%|███▉      | 74/188 [00:01<00:02, 39.31it/s]\u001b[A\n",
      "Validation DataLoader 0:  40%|███▉      | 75/188 [00:01<00:02, 39.39it/s]\u001b[A\n",
      "Validation DataLoader 0:  40%|████      | 76/188 [00:01<00:02, 39.42it/s]\u001b[A\n",
      "Validation DataLoader 0:  41%|████      | 77/188 [00:01<00:02, 39.47it/s]\u001b[A\n",
      "Validation DataLoader 0:  41%|████▏     | 78/188 [00:01<00:02, 39.51it/s]\u001b[A\n",
      "Validation DataLoader 0:  42%|████▏     | 79/188 [00:01<00:02, 39.54it/s]\u001b[A\n",
      "Validation DataLoader 0:  43%|████▎     | 80/188 [00:02<00:02, 39.60it/s]\u001b[A\n",
      "Validation DataLoader 0:  43%|████▎     | 81/188 [00:02<00:02, 39.69it/s]\u001b[A\n",
      "Validation DataLoader 0:  44%|████▎     | 82/188 [00:02<00:02, 39.71it/s]\u001b[A\n",
      "Validation DataLoader 0:  44%|████▍     | 83/188 [00:02<00:02, 39.71it/s]\u001b[A\n",
      "Validation DataLoader 0:  45%|████▍     | 84/188 [00:02<00:02, 39.74it/s]\u001b[A\n",
      "Validation DataLoader 0:  45%|████▌     | 85/188 [00:02<00:02, 39.77it/s]\u001b[A\n",
      "Validation DataLoader 0:  46%|████▌     | 86/188 [00:02<00:02, 39.80it/s]\u001b[A\n",
      "Validation DataLoader 0:  46%|████▋     | 87/188 [00:02<00:02, 39.84it/s]\u001b[A\n",
      "Validation DataLoader 0:  47%|████▋     | 88/188 [00:02<00:02, 39.84it/s]\u001b[A\n",
      "Validation DataLoader 0:  47%|████▋     | 89/188 [00:02<00:02, 39.84it/s]\u001b[A\n",
      "Validation DataLoader 0:  48%|████▊     | 90/188 [00:02<00:02, 39.88it/s]\u001b[A\n",
      "Validation DataLoader 0:  48%|████▊     | 91/188 [00:02<00:02, 39.93it/s]\u001b[A\n",
      "Validation DataLoader 0:  49%|████▉     | 92/188 [00:02<00:02, 40.01it/s]\u001b[A\n",
      "Validation DataLoader 0:  49%|████▉     | 93/188 [00:02<00:02, 40.07it/s]\u001b[A\n",
      "Validation DataLoader 0:  50%|█████     | 94/188 [00:02<00:02, 40.11it/s]\u001b[A\n",
      "Validation DataLoader 0:  51%|█████     | 95/188 [00:02<00:02, 40.20it/s]\u001b[A\n",
      "Validation DataLoader 0:  51%|█████     | 96/188 [00:02<00:02, 40.23it/s]\u001b[A\n",
      "Validation DataLoader 0:  52%|█████▏    | 97/188 [00:02<00:02, 40.29it/s]\u001b[A\n",
      "Validation DataLoader 0:  52%|█████▏    | 98/188 [00:02<00:02, 40.36it/s]\u001b[A\n",
      "Validation DataLoader 0:  53%|█████▎    | 99/188 [00:02<00:02, 40.40it/s]\u001b[A\n",
      "Validation DataLoader 0:  53%|█████▎    | 100/188 [00:02<00:02, 40.40it/s]\u001b[A\n",
      "Validation DataLoader 0:  54%|█████▎    | 101/188 [00:02<00:02, 40.41it/s]\u001b[A\n",
      "Validation DataLoader 0:  54%|█████▍    | 102/188 [00:02<00:02, 40.40it/s]\u001b[A\n",
      "Validation DataLoader 0:  55%|█████▍    | 103/188 [00:02<00:02, 40.45it/s]\u001b[A\n",
      "Validation DataLoader 0:  55%|█████▌    | 104/188 [00:02<00:02, 40.47it/s]\u001b[A\n",
      "Validation DataLoader 0:  56%|█████▌    | 105/188 [00:02<00:02, 40.50it/s]\u001b[A\n",
      "Validation DataLoader 0:  56%|█████▋    | 106/188 [00:02<00:02, 40.45it/s]\u001b[A\n",
      "Validation DataLoader 0:  57%|█████▋    | 107/188 [00:02<00:02, 40.49it/s]\u001b[A\n",
      "Validation DataLoader 0:  57%|█████▋    | 108/188 [00:02<00:01, 40.54it/s]\u001b[A\n",
      "Validation DataLoader 0:  58%|█████▊    | 109/188 [00:02<00:01, 40.56it/s]\u001b[A\n",
      "Validation DataLoader 0:  59%|█████▊    | 110/188 [00:02<00:01, 40.59it/s]\u001b[A\n",
      "Validation DataLoader 0:  59%|█████▉    | 111/188 [00:02<00:01, 40.62it/s]\u001b[A\n",
      "Validation DataLoader 0:  60%|█████▉    | 112/188 [00:02<00:01, 40.68it/s]\u001b[A\n",
      "Validation DataLoader 0:  60%|██████    | 113/188 [00:02<00:01, 40.66it/s]\u001b[A\n",
      "Validation DataLoader 0:  61%|██████    | 114/188 [00:02<00:01, 40.71it/s]\u001b[A\n",
      "Validation DataLoader 0:  61%|██████    | 115/188 [00:02<00:01, 40.73it/s]\u001b[A\n",
      "Validation DataLoader 0:  62%|██████▏   | 116/188 [00:02<00:01, 40.77it/s]\u001b[A\n",
      "Validation DataLoader 0:  62%|██████▏   | 117/188 [00:02<00:01, 40.78it/s]\u001b[A\n",
      "Validation DataLoader 0:  63%|██████▎   | 118/188 [00:02<00:01, 40.80it/s]\u001b[A\n",
      "Validation DataLoader 0:  63%|██████▎   | 119/188 [00:02<00:01, 40.80it/s]\u001b[A\n",
      "Validation DataLoader 0:  64%|██████▍   | 120/188 [00:02<00:01, 40.81it/s]\u001b[A\n",
      "Validation DataLoader 0:  64%|██████▍   | 121/188 [00:02<00:01, 40.81it/s]\u001b[A\n",
      "Validation DataLoader 0:  65%|██████▍   | 122/188 [00:02<00:01, 40.77it/s]\u001b[A\n",
      "Validation DataLoader 0:  65%|██████▌   | 123/188 [00:03<00:01, 40.73it/s]\u001b[A\n",
      "Validation DataLoader 0:  66%|██████▌   | 124/188 [00:03<00:01, 40.74it/s]\u001b[A\n",
      "Validation DataLoader 0:  66%|██████▋   | 125/188 [00:03<00:01, 40.75it/s]\u001b[A\n",
      "Validation DataLoader 0:  67%|██████▋   | 126/188 [00:03<00:01, 40.76it/s]\u001b[A\n",
      "Validation DataLoader 0:  68%|██████▊   | 127/188 [00:03<00:01, 40.74it/s]\u001b[A\n",
      "Validation DataLoader 0:  68%|██████▊   | 128/188 [00:03<00:01, 40.75it/s]\u001b[A\n",
      "Validation DataLoader 0:  69%|██████▊   | 129/188 [00:03<00:01, 40.77it/s]\u001b[A\n",
      "Validation DataLoader 0:  69%|██████▉   | 130/188 [00:03<00:01, 40.78it/s]\u001b[A\n",
      "Validation DataLoader 0:  70%|██████▉   | 131/188 [00:03<00:01, 40.76it/s]\u001b[A\n",
      "Validation DataLoader 0:  70%|███████   | 132/188 [00:03<00:01, 40.75it/s]\u001b[A\n",
      "Validation DataLoader 0:  71%|███████   | 133/188 [00:03<00:01, 40.80it/s]\u001b[A\n",
      "Validation DataLoader 0:  71%|███████▏  | 134/188 [00:03<00:01, 40.85it/s]\u001b[A\n",
      "Validation DataLoader 0:  72%|███████▏  | 135/188 [00:03<00:01, 40.85it/s]\u001b[A\n",
      "Validation DataLoader 0:  72%|███████▏  | 136/188 [00:03<00:01, 40.83it/s]\u001b[A\n",
      "Validation DataLoader 0:  73%|███████▎  | 137/188 [00:03<00:01, 40.84it/s]\u001b[A\n",
      "Validation DataLoader 0:  73%|███████▎  | 138/188 [00:03<00:01, 40.87it/s]\u001b[A\n",
      "Validation DataLoader 0:  74%|███████▍  | 139/188 [00:03<00:01, 40.89it/s]\u001b[A\n",
      "Validation DataLoader 0:  74%|███████▍  | 140/188 [00:03<00:01, 40.92it/s]\u001b[A\n",
      "Validation DataLoader 0:  75%|███████▌  | 141/188 [00:03<00:01, 40.89it/s]\u001b[A\n",
      "Validation DataLoader 0:  76%|███████▌  | 142/188 [00:03<00:01, 40.91it/s]\u001b[A\n",
      "Validation DataLoader 0:  76%|███████▌  | 143/188 [00:03<00:01, 40.94it/s]\u001b[A\n",
      "Validation DataLoader 0:  77%|███████▋  | 144/188 [00:03<00:01, 40.96it/s]\u001b[A\n",
      "Validation DataLoader 0:  77%|███████▋  | 145/188 [00:03<00:01, 40.92it/s]\u001b[A\n",
      "Validation DataLoader 0:  78%|███████▊  | 146/188 [00:03<00:01, 40.96it/s]\u001b[A\n",
      "Validation DataLoader 0:  78%|███████▊  | 147/188 [00:03<00:01, 40.92it/s]\u001b[A\n",
      "Validation DataLoader 0:  79%|███████▊  | 148/188 [00:03<00:00, 40.93it/s]\u001b[A\n",
      "Validation DataLoader 0:  79%|███████▉  | 149/188 [00:03<00:00, 40.92it/s]\u001b[A\n",
      "Validation DataLoader 0:  80%|███████▉  | 150/188 [00:03<00:00, 40.93it/s]\u001b[A\n",
      "Validation DataLoader 0:  80%|████████  | 151/188 [00:03<00:00, 40.95it/s]\u001b[A\n",
      "Validation DataLoader 0:  81%|████████  | 152/188 [00:03<00:00, 40.93it/s]\u001b[A\n",
      "Validation DataLoader 0:  81%|████████▏ | 153/188 [00:03<00:00, 40.93it/s]\u001b[A\n",
      "Validation DataLoader 0:  82%|████████▏ | 154/188 [00:03<00:00, 40.85it/s]\u001b[A\n",
      "Validation DataLoader 0:  82%|████████▏ | 155/188 [00:03<00:00, 40.84it/s]\u001b[A\n",
      "Validation DataLoader 0:  83%|████████▎ | 156/188 [00:03<00:00, 40.85it/s]\u001b[A\n",
      "Validation DataLoader 0:  84%|████████▎ | 157/188 [00:03<00:00, 40.82it/s]\u001b[A\n",
      "Validation DataLoader 0:  84%|████████▍ | 158/188 [00:03<00:00, 40.82it/s]\u001b[A\n",
      "Validation DataLoader 0:  85%|████████▍ | 159/188 [00:03<00:00, 40.84it/s]\u001b[A\n",
      "Validation DataLoader 0:  85%|████████▌ | 160/188 [00:03<00:00, 40.84it/s]\u001b[A\n",
      "Validation DataLoader 0:  86%|████████▌ | 161/188 [00:03<00:00, 40.87it/s]\u001b[A\n",
      "Validation DataLoader 0:  86%|████████▌ | 162/188 [00:03<00:00, 40.89it/s]\u001b[A\n",
      "Validation DataLoader 0:  87%|████████▋ | 163/188 [00:03<00:00, 40.91it/s]\u001b[A\n",
      "Validation DataLoader 0:  87%|████████▋ | 164/188 [00:04<00:00, 40.92it/s]\u001b[A\n",
      "Validation DataLoader 0:  88%|████████▊ | 165/188 [00:04<00:00, 40.93it/s]\u001b[A\n",
      "Validation DataLoader 0:  88%|████████▊ | 166/188 [00:04<00:00, 40.94it/s]\u001b[A\n",
      "Validation DataLoader 0:  89%|████████▉ | 167/188 [00:04<00:00, 40.93it/s]\u001b[A\n",
      "Validation DataLoader 0:  89%|████████▉ | 168/188 [00:04<00:00, 40.92it/s]\u001b[A\n",
      "Validation DataLoader 0:  90%|████████▉ | 169/188 [00:04<00:00, 40.93it/s]\u001b[A\n",
      "Validation DataLoader 0:  90%|█████████ | 170/188 [00:04<00:00, 40.94it/s]\u001b[A\n",
      "Validation DataLoader 0:  91%|█████████ | 171/188 [00:04<00:00, 40.95it/s]\u001b[A\n",
      "Validation DataLoader 0:  91%|█████████▏| 172/188 [00:04<00:00, 40.93it/s]\u001b[A\n",
      "Validation DataLoader 0:  92%|█████████▏| 173/188 [00:04<00:00, 40.89it/s]\u001b[A\n",
      "Validation DataLoader 0:  93%|█████████▎| 174/188 [00:04<00:00, 40.88it/s]\u001b[A\n",
      "Validation DataLoader 0:  93%|█████████▎| 175/188 [00:04<00:00, 40.89it/s]\u001b[A\n",
      "Validation DataLoader 0:  94%|█████████▎| 176/188 [00:04<00:00, 40.92it/s]\u001b[A\n",
      "Validation DataLoader 0:  94%|█████████▍| 177/188 [00:04<00:00, 40.94it/s]\u001b[A\n",
      "Validation DataLoader 0:  95%|█████████▍| 178/188 [00:04<00:00, 40.97it/s]\u001b[A\n",
      "Validation DataLoader 0:  95%|█████████▌| 179/188 [00:04<00:00, 40.99it/s]\u001b[A\n",
      "Validation DataLoader 0:  96%|█████████▌| 180/188 [00:04<00:00, 41.00it/s]\u001b[A\n",
      "Validation DataLoader 0:  96%|█████████▋| 181/188 [00:04<00:00, 41.02it/s]\u001b[A\n",
      "Validation DataLoader 0:  97%|█████████▋| 182/188 [00:04<00:00, 41.04it/s]\u001b[A\n",
      "Validation DataLoader 0:  97%|█████████▋| 183/188 [00:04<00:00, 41.06it/s]\u001b[A\n",
      "Validation DataLoader 0:  98%|█████████▊| 184/188 [00:04<00:00, 41.04it/s]\u001b[A\n",
      "Validation DataLoader 0:  98%|█████████▊| 185/188 [00:04<00:00, 41.06it/s]\u001b[A\n",
      "Validation DataLoader 0:  99%|█████████▉| 186/188 [00:04<00:00, 41.07it/s]\u001b[A\n",
      "Validation DataLoader 0:  99%|█████████▉| 187/188 [00:04<00:00, 41.09it/s]\u001b[A\n",
      "Validation DataLoader 0: 100%|██████████| 188/188 [00:04<00:00, 41.16it/s]\u001b[A\n",
      "Epoch 2: 100%|██████████| 188/188 [00:16<00:00, 11.60it/s, v_num=zk7b, val_loss=1.39e-5, val_acc=1.000]\n",
      "Validation: |          | 0/? [00:00<?, ?it/s]\u001b[A\n",
      "Validation:   0%|          | 0/188 [00:00<?, ?it/s]\u001b[A\n",
      "Validation DataLoader 0:   0%|          | 0/188 [00:00<?, ?it/s]\u001b[A\n",
      "Validation DataLoader 0:   1%|          | 1/188 [00:00<00:06, 29.47it/s]\u001b[A\n",
      "Validation DataLoader 0:   1%|          | 2/188 [00:00<00:05, 35.55it/s]\u001b[A\n",
      "Validation DataLoader 0:   2%|▏         | 3/188 [00:00<00:05, 34.39it/s]\u001b[A\n",
      "Validation DataLoader 0:   2%|▏         | 4/188 [00:00<00:05, 35.57it/s]\u001b[A\n",
      "Validation DataLoader 0:   3%|▎         | 5/188 [00:00<00:05, 36.51it/s]\u001b[A\n",
      "Validation DataLoader 0:   3%|▎         | 6/188 [00:00<00:04, 37.58it/s]\u001b[A\n",
      "Validation DataLoader 0:   4%|▎         | 7/188 [00:00<00:04, 38.11it/s]\u001b[A\n",
      "Validation DataLoader 0:   4%|▍         | 8/188 [00:00<00:04, 38.96it/s]\u001b[A\n",
      "Validation DataLoader 0:   5%|▍         | 9/188 [00:00<00:04, 39.29it/s]\u001b[A\n",
      "Validation DataLoader 0:   5%|▌         | 10/188 [00:00<00:04, 39.68it/s]\u001b[A\n",
      "Validation DataLoader 0:   6%|▌         | 11/188 [00:00<00:04, 39.95it/s]\u001b[A\n",
      "Validation DataLoader 0:   6%|▋         | 12/188 [00:00<00:04, 40.38it/s]\u001b[A\n",
      "Validation DataLoader 0:   7%|▋         | 13/188 [00:00<00:04, 40.57it/s]\u001b[A\n",
      "Validation DataLoader 0:   7%|▋         | 14/188 [00:00<00:04, 40.72it/s]\u001b[A\n",
      "Validation DataLoader 0:   8%|▊         | 15/188 [00:00<00:04, 40.74it/s]\u001b[A\n",
      "Validation DataLoader 0:   9%|▊         | 16/188 [00:00<00:04, 40.60it/s]\u001b[A\n",
      "Validation DataLoader 0:   9%|▉         | 17/188 [00:00<00:04, 40.29it/s]\u001b[A\n",
      "Validation DataLoader 0:  10%|▉         | 18/188 [00:00<00:04, 40.29it/s]\u001b[A\n",
      "Validation DataLoader 0:  10%|█         | 19/188 [00:00<00:04, 40.37it/s]\u001b[A\n",
      "Validation DataLoader 0:  11%|█         | 20/188 [00:00<00:04, 40.33it/s]\u001b[A\n",
      "Validation DataLoader 0:  11%|█         | 21/188 [00:00<00:04, 40.33it/s]\u001b[A\n",
      "Validation DataLoader 0:  12%|█▏        | 22/188 [00:00<00:04, 40.34it/s]\u001b[A\n",
      "Validation DataLoader 0:  12%|█▏        | 23/188 [00:00<00:04, 40.44it/s]\u001b[A\n",
      "Validation DataLoader 0:  13%|█▎        | 24/188 [00:00<00:04, 40.32it/s]\u001b[A\n",
      "Validation DataLoader 0:  13%|█▎        | 25/188 [00:00<00:04, 39.98it/s]\u001b[A\n",
      "Validation DataLoader 0:  14%|█▍        | 26/188 [00:00<00:04, 39.64it/s]\u001b[A\n",
      "Validation DataLoader 0:  14%|█▍        | 27/188 [00:00<00:04, 39.57it/s]\u001b[A\n",
      "Validation DataLoader 0:  15%|█▍        | 28/188 [00:00<00:04, 39.57it/s]\u001b[A\n",
      "Validation DataLoader 0:  15%|█▌        | 29/188 [00:00<00:04, 39.57it/s]\u001b[A\n",
      "Validation DataLoader 0:  16%|█▌        | 30/188 [00:00<00:04, 39.47it/s]\u001b[A\n",
      "Validation DataLoader 0:  16%|█▋        | 31/188 [00:00<00:03, 39.53it/s]\u001b[A\n",
      "Validation DataLoader 0:  17%|█▋        | 32/188 [00:00<00:03, 39.57it/s]\u001b[A\n",
      "Validation DataLoader 0:  18%|█▊        | 33/188 [00:00<00:03, 39.70it/s]\u001b[A\n",
      "Validation DataLoader 0:  18%|█▊        | 34/188 [00:00<00:03, 39.80it/s]\u001b[A\n",
      "Validation DataLoader 0:  19%|█▊        | 35/188 [00:00<00:03, 39.90it/s]\u001b[A\n",
      "Validation DataLoader 0:  19%|█▉        | 36/188 [00:00<00:03, 39.96it/s]\u001b[A\n",
      "Validation DataLoader 0:  20%|█▉        | 37/188 [00:00<00:03, 40.09it/s]\u001b[A\n",
      "Validation DataLoader 0:  20%|██        | 38/188 [00:00<00:03, 40.18it/s]\u001b[A\n",
      "Validation DataLoader 0:  21%|██        | 39/188 [00:00<00:03, 40.31it/s]\u001b[A\n",
      "Validation DataLoader 0:  21%|██▏       | 40/188 [00:00<00:03, 40.33it/s]\u001b[A\n",
      "Validation DataLoader 0:  22%|██▏       | 41/188 [00:01<00:03, 40.34it/s]\u001b[A\n",
      "Validation DataLoader 0:  22%|██▏       | 42/188 [00:01<00:03, 40.37it/s]\u001b[A\n",
      "Validation DataLoader 0:  23%|██▎       | 43/188 [00:01<00:03, 40.43it/s]\u001b[A\n",
      "Validation DataLoader 0:  23%|██▎       | 44/188 [00:01<00:03, 40.47it/s]\u001b[A\n",
      "Validation DataLoader 0:  24%|██▍       | 45/188 [00:01<00:03, 40.23it/s]\u001b[A\n",
      "Validation DataLoader 0:  24%|██▍       | 46/188 [00:01<00:03, 40.23it/s]\u001b[A\n",
      "Validation DataLoader 0:  25%|██▌       | 47/188 [00:01<00:03, 40.08it/s]\u001b[A\n",
      "Validation DataLoader 0:  26%|██▌       | 48/188 [00:01<00:03, 39.75it/s]\u001b[A\n",
      "Validation DataLoader 0:  26%|██▌       | 49/188 [00:01<00:03, 39.64it/s]\u001b[A\n",
      "Validation DataLoader 0:  27%|██▋       | 50/188 [00:01<00:03, 39.50it/s]\u001b[A\n",
      "Validation DataLoader 0:  27%|██▋       | 51/188 [00:01<00:03, 39.40it/s]\u001b[A\n",
      "Validation DataLoader 0:  28%|██▊       | 52/188 [00:01<00:03, 39.33it/s]\u001b[A\n",
      "Validation DataLoader 0:  28%|██▊       | 53/188 [00:01<00:03, 39.37it/s]\u001b[A\n",
      "Validation DataLoader 0:  29%|██▊       | 54/188 [00:01<00:03, 39.33it/s]\u001b[A\n",
      "Validation DataLoader 0:  29%|██▉       | 55/188 [00:01<00:03, 39.27it/s]\u001b[A\n",
      "Validation DataLoader 0:  30%|██▉       | 56/188 [00:01<00:03, 39.20it/s]\u001b[A\n",
      "Validation DataLoader 0:  30%|███       | 57/188 [00:01<00:03, 39.07it/s]\u001b[A\n",
      "Validation DataLoader 0:  31%|███       | 58/188 [00:01<00:03, 39.08it/s]\u001b[A\n",
      "Validation DataLoader 0:  31%|███▏      | 59/188 [00:01<00:03, 39.10it/s]\u001b[A\n",
      "Validation DataLoader 0:  32%|███▏      | 60/188 [00:01<00:03, 39.06it/s]\u001b[A\n",
      "Validation DataLoader 0:  32%|███▏      | 61/188 [00:01<00:03, 39.10it/s]\u001b[A\n",
      "Validation DataLoader 0:  33%|███▎      | 62/188 [00:01<00:03, 39.15it/s]\u001b[A\n",
      "Validation DataLoader 0:  34%|███▎      | 63/188 [00:01<00:03, 39.12it/s]\u001b[A\n",
      "Validation DataLoader 0:  34%|███▍      | 64/188 [00:01<00:03, 39.11it/s]\u001b[A\n",
      "Validation DataLoader 0:  35%|███▍      | 65/188 [00:01<00:03, 39.18it/s]\u001b[A\n",
      "Validation DataLoader 0:  35%|███▌      | 66/188 [00:01<00:03, 39.25it/s]\u001b[A\n",
      "Validation DataLoader 0:  36%|███▌      | 67/188 [00:01<00:03, 39.30it/s]\u001b[A\n",
      "Validation DataLoader 0:  36%|███▌      | 68/188 [00:01<00:03, 39.16it/s]\u001b[A\n",
      "Validation DataLoader 0:  37%|███▋      | 69/188 [00:01<00:03, 39.19it/s]\u001b[A\n",
      "Validation DataLoader 0:  37%|███▋      | 70/188 [00:01<00:03, 39.11it/s]\u001b[A\n",
      "Validation DataLoader 0:  38%|███▊      | 71/188 [00:01<00:02, 39.12it/s]\u001b[A\n",
      "Validation DataLoader 0:  38%|███▊      | 72/188 [00:01<00:02, 39.14it/s]\u001b[A\n",
      "Validation DataLoader 0:  39%|███▉      | 73/188 [00:01<00:02, 39.19it/s]\u001b[A\n",
      "Validation DataLoader 0:  39%|███▉      | 74/188 [00:01<00:02, 39.23it/s]\u001b[A\n",
      "Validation DataLoader 0:  40%|███▉      | 75/188 [00:01<00:02, 39.29it/s]\u001b[A\n",
      "Validation DataLoader 0:  40%|████      | 76/188 [00:01<00:02, 39.32it/s]\u001b[A\n",
      "Validation DataLoader 0:  41%|████      | 77/188 [00:01<00:02, 39.10it/s]\u001b[A\n",
      "Validation DataLoader 0:  41%|████▏     | 78/188 [00:01<00:02, 39.06it/s]\u001b[A\n",
      "Validation DataLoader 0:  42%|████▏     | 79/188 [00:02<00:02, 39.08it/s]\u001b[A\n",
      "Validation DataLoader 0:  43%|████▎     | 80/188 [00:02<00:02, 39.11it/s]\u001b[A\n",
      "Validation DataLoader 0:  43%|████▎     | 81/188 [00:02<00:02, 39.12it/s]\u001b[A\n",
      "Validation DataLoader 0:  44%|████▎     | 82/188 [00:02<00:02, 39.13it/s]\u001b[A\n",
      "Validation DataLoader 0:  44%|████▍     | 83/188 [00:02<00:02, 39.18it/s]\u001b[A\n",
      "Validation DataLoader 0:  45%|████▍     | 84/188 [00:02<00:02, 39.22it/s]\u001b[A\n",
      "Validation DataLoader 0:  45%|████▌     | 85/188 [00:02<00:02, 39.23it/s]\u001b[A\n",
      "Validation DataLoader 0:  46%|████▌     | 86/188 [00:02<00:02, 39.27it/s]\u001b[A\n",
      "Validation DataLoader 0:  46%|████▋     | 87/188 [00:02<00:02, 39.31it/s]\u001b[A\n",
      "Validation DataLoader 0:  47%|████▋     | 88/188 [00:02<00:02, 39.36it/s]\u001b[A\n",
      "Validation DataLoader 0:  47%|████▋     | 89/188 [00:02<00:02, 39.40it/s]\u001b[A\n",
      "Validation DataLoader 0:  48%|████▊     | 90/188 [00:02<00:02, 39.45it/s]\u001b[A\n",
      "Validation DataLoader 0:  48%|████▊     | 91/188 [00:02<00:02, 39.47it/s]\u001b[A\n",
      "Validation DataLoader 0:  49%|████▉     | 92/188 [00:02<00:02, 39.49it/s]\u001b[A\n",
      "Validation DataLoader 0:  49%|████▉     | 93/188 [00:02<00:02, 39.54it/s]\u001b[A\n",
      "Validation DataLoader 0:  50%|█████     | 94/188 [00:02<00:02, 39.51it/s]\u001b[A\n",
      "Validation DataLoader 0:  51%|█████     | 95/188 [00:02<00:02, 39.56it/s]\u001b[A\n",
      "Validation DataLoader 0:  51%|█████     | 96/188 [00:02<00:02, 39.60it/s]\u001b[A\n",
      "Validation DataLoader 0:  52%|█████▏    | 97/188 [00:02<00:02, 39.58it/s]\u001b[A\n",
      "Validation DataLoader 0:  52%|█████▏    | 98/188 [00:02<00:02, 39.59it/s]\u001b[A\n",
      "Validation DataLoader 0:  53%|█████▎    | 99/188 [00:02<00:02, 39.61it/s]\u001b[A\n",
      "Validation DataLoader 0:  53%|█████▎    | 100/188 [00:02<00:02, 39.57it/s]\u001b[A\n",
      "Validation DataLoader 0:  54%|█████▎    | 101/188 [00:02<00:02, 39.57it/s]\u001b[A\n",
      "Validation DataLoader 0:  54%|█████▍    | 102/188 [00:02<00:02, 39.52it/s]\u001b[A\n",
      "Validation DataLoader 0:  55%|█████▍    | 103/188 [00:02<00:02, 39.49it/s]\u001b[A\n",
      "Validation DataLoader 0:  55%|█████▌    | 104/188 [00:02<00:02, 39.33it/s]\u001b[A\n",
      "Validation DataLoader 0:  56%|█████▌    | 105/188 [00:02<00:02, 39.27it/s]\u001b[A\n",
      "Validation DataLoader 0:  56%|█████▋    | 106/188 [00:02<00:02, 39.21it/s]\u001b[A\n",
      "Validation DataLoader 0:  57%|█████▋    | 107/188 [00:02<00:02, 39.08it/s]\u001b[A\n",
      "Validation DataLoader 0:  57%|█████▋    | 108/188 [00:02<00:02, 39.08it/s]\u001b[A\n",
      "Validation DataLoader 0:  58%|█████▊    | 109/188 [00:02<00:02, 38.99it/s]\u001b[A\n",
      "Validation DataLoader 0:  59%|█████▊    | 110/188 [00:02<00:02, 38.91it/s]\u001b[A\n",
      "Validation DataLoader 0:  59%|█████▉    | 111/188 [00:02<00:01, 38.87it/s]\u001b[A\n",
      "Validation DataLoader 0:  60%|█████▉    | 112/188 [00:02<00:01, 38.84it/s]\u001b[A\n",
      "Validation DataLoader 0:  60%|██████    | 113/188 [00:02<00:01, 38.84it/s]\u001b[A\n",
      "Validation DataLoader 0:  61%|██████    | 114/188 [00:02<00:01, 38.83it/s]\u001b[A\n",
      "Validation DataLoader 0:  61%|██████    | 115/188 [00:02<00:01, 38.79it/s]\u001b[A\n",
      "Validation DataLoader 0:  62%|██████▏   | 116/188 [00:02<00:01, 38.69it/s]\u001b[A\n",
      "Validation DataLoader 0:  62%|██████▏   | 117/188 [00:03<00:01, 38.66it/s]\u001b[A\n",
      "Validation DataLoader 0:  63%|██████▎   | 118/188 [00:03<00:01, 38.62it/s]\u001b[A\n",
      "Validation DataLoader 0:  63%|██████▎   | 119/188 [00:03<00:01, 38.58it/s]\u001b[A\n",
      "Validation DataLoader 0:  64%|██████▍   | 120/188 [00:03<00:01, 38.58it/s]\u001b[A\n",
      "Validation DataLoader 0:  64%|██████▍   | 121/188 [00:03<00:01, 38.53it/s]\u001b[A\n",
      "Validation DataLoader 0:  65%|██████▍   | 122/188 [00:03<00:01, 38.54it/s]\u001b[A\n",
      "Validation DataLoader 0:  65%|██████▌   | 123/188 [00:03<00:01, 38.52it/s]\u001b[A\n",
      "Validation DataLoader 0:  66%|██████▌   | 124/188 [00:03<00:01, 38.42it/s]\u001b[A\n",
      "Validation DataLoader 0:  66%|██████▋   | 125/188 [00:03<00:01, 38.44it/s]\u001b[A\n",
      "Validation DataLoader 0:  67%|██████▋   | 126/188 [00:03<00:01, 38.45it/s]\u001b[A\n",
      "Validation DataLoader 0:  68%|██████▊   | 127/188 [00:03<00:01, 38.44it/s]\u001b[A\n",
      "Validation DataLoader 0:  68%|██████▊   | 128/188 [00:03<00:01, 38.47it/s]\u001b[A\n",
      "Validation DataLoader 0:  69%|██████▊   | 129/188 [00:03<00:01, 38.46it/s]\u001b[A\n",
      "Validation DataLoader 0:  69%|██████▉   | 130/188 [00:03<00:01, 38.49it/s]\u001b[A\n",
      "Validation DataLoader 0:  70%|██████▉   | 131/188 [00:03<00:01, 38.48it/s]\u001b[A\n",
      "Validation DataLoader 0:  70%|███████   | 132/188 [00:03<00:01, 38.48it/s]\u001b[A\n",
      "Validation DataLoader 0:  71%|███████   | 133/188 [00:03<00:01, 38.47it/s]\u001b[A\n",
      "Validation DataLoader 0:  71%|███████▏  | 134/188 [00:03<00:01, 38.48it/s]\u001b[A\n",
      "Validation DataLoader 0:  72%|███████▏  | 135/188 [00:03<00:01, 38.46it/s]\u001b[A\n",
      "Validation DataLoader 0:  72%|███████▏  | 136/188 [00:03<00:01, 38.45it/s]\u001b[A\n",
      "Validation DataLoader 0:  73%|███████▎  | 137/188 [00:03<00:01, 38.48it/s]\u001b[A\n",
      "Validation DataLoader 0:  73%|███████▎  | 138/188 [00:03<00:01, 38.48it/s]\u001b[A\n",
      "Validation DataLoader 0:  74%|███████▍  | 139/188 [00:03<00:01, 38.46it/s]\u001b[A\n",
      "Validation DataLoader 0:  74%|███████▍  | 140/188 [00:03<00:01, 38.45it/s]\u001b[A\n",
      "Validation DataLoader 0:  75%|███████▌  | 141/188 [00:03<00:01, 38.23it/s]\u001b[A\n",
      "Validation DataLoader 0:  76%|███████▌  | 142/188 [00:03<00:01, 38.16it/s]\u001b[A\n",
      "Validation DataLoader 0:  76%|███████▌  | 143/188 [00:03<00:01, 38.13it/s]\u001b[A\n",
      "Validation DataLoader 0:  77%|███████▋  | 144/188 [00:03<00:01, 38.12it/s]\u001b[A\n",
      "Validation DataLoader 0:  77%|███████▋  | 145/188 [00:03<00:01, 38.10it/s]\u001b[A\n",
      "Validation DataLoader 0:  78%|███████▊  | 146/188 [00:03<00:01, 38.10it/s]\u001b[A\n",
      "Validation DataLoader 0:  78%|███████▊  | 147/188 [00:03<00:01, 38.10it/s]\u001b[A\n",
      "Validation DataLoader 0:  79%|███████▊  | 148/188 [00:03<00:01, 38.09it/s]\u001b[A\n",
      "Validation DataLoader 0:  79%|███████▉  | 149/188 [00:03<00:01, 38.09it/s]\u001b[A\n",
      "Validation DataLoader 0:  80%|███████▉  | 150/188 [00:03<00:00, 38.11it/s]\u001b[A\n",
      "Validation DataLoader 0:  80%|████████  | 151/188 [00:03<00:00, 38.12it/s]\u001b[A\n",
      "Validation DataLoader 0:  81%|████████  | 152/188 [00:03<00:00, 38.11it/s]\u001b[A\n",
      "Validation DataLoader 0:  81%|████████▏ | 153/188 [00:04<00:00, 38.13it/s]\u001b[A\n",
      "Validation DataLoader 0:  82%|████████▏ | 154/188 [00:04<00:00, 38.13it/s]\u001b[A\n",
      "Validation DataLoader 0:  82%|████████▏ | 155/188 [00:04<00:00, 38.14it/s]\u001b[A\n",
      "Validation DataLoader 0:  83%|████████▎ | 156/188 [00:04<00:00, 38.16it/s]\u001b[A\n",
      "Validation DataLoader 0:  84%|████████▎ | 157/188 [00:04<00:00, 38.16it/s]\u001b[A\n",
      "Validation DataLoader 0:  84%|████████▍ | 158/188 [00:04<00:00, 38.18it/s]\u001b[A\n",
      "Validation DataLoader 0:  85%|████████▍ | 159/188 [00:04<00:00, 38.16it/s]\u001b[A\n",
      "Validation DataLoader 0:  85%|████████▌ | 160/188 [00:04<00:00, 38.16it/s]\u001b[A\n",
      "Validation DataLoader 0:  86%|████████▌ | 161/188 [00:04<00:00, 38.16it/s]\u001b[A\n",
      "Validation DataLoader 0:  86%|████████▌ | 162/188 [00:04<00:00, 38.16it/s]\u001b[A\n",
      "Validation DataLoader 0:  87%|████████▋ | 163/188 [00:04<00:00, 38.15it/s]\u001b[A\n",
      "Validation DataLoader 0:  87%|████████▋ | 164/188 [00:04<00:00, 38.12it/s]\u001b[A\n",
      "Validation DataLoader 0:  88%|████████▊ | 165/188 [00:04<00:00, 38.12it/s]\u001b[A\n",
      "Validation DataLoader 0:  88%|████████▊ | 166/188 [00:04<00:00, 38.11it/s]\u001b[A\n",
      "Validation DataLoader 0:  89%|████████▉ | 167/188 [00:04<00:00, 38.11it/s]\u001b[A\n",
      "Validation DataLoader 0:  89%|████████▉ | 168/188 [00:04<00:00, 38.09it/s]\u001b[A\n",
      "Validation DataLoader 0:  90%|████████▉ | 169/188 [00:04<00:00, 38.03it/s]\u001b[A\n",
      "Validation DataLoader 0:  90%|█████████ | 170/188 [00:04<00:00, 37.97it/s]\u001b[A\n",
      "Validation DataLoader 0:  91%|█████████ | 171/188 [00:04<00:00, 37.97it/s]\u001b[A\n",
      "Validation DataLoader 0:  91%|█████████▏| 172/188 [00:04<00:00, 37.91it/s]\u001b[A\n",
      "Validation DataLoader 0:  92%|█████████▏| 173/188 [00:04<00:00, 37.86it/s]\u001b[A\n",
      "Validation DataLoader 0:  93%|█████████▎| 174/188 [00:04<00:00, 37.84it/s]\u001b[A\n",
      "Validation DataLoader 0:  93%|█████████▎| 175/188 [00:04<00:00, 37.82it/s]\u001b[A\n",
      "Validation DataLoader 0:  94%|█████████▎| 176/188 [00:04<00:00, 37.77it/s]\u001b[A\n",
      "Validation DataLoader 0:  94%|█████████▍| 177/188 [00:04<00:00, 37.71it/s]\u001b[A\n",
      "Validation DataLoader 0:  95%|█████████▍| 178/188 [00:04<00:00, 37.71it/s]\u001b[A\n",
      "Validation DataLoader 0:  95%|█████████▌| 179/188 [00:04<00:00, 37.63it/s]\u001b[A\n",
      "Validation DataLoader 0:  96%|█████████▌| 180/188 [00:04<00:00, 37.63it/s]\u001b[A\n",
      "Validation DataLoader 0:  96%|█████████▋| 181/188 [00:04<00:00, 37.63it/s]\u001b[A\n",
      "Validation DataLoader 0:  97%|█████████▋| 182/188 [00:04<00:00, 37.61it/s]\u001b[A\n",
      "Validation DataLoader 0:  97%|█████████▋| 183/188 [00:04<00:00, 37.59it/s]\u001b[A\n",
      "Validation DataLoader 0:  98%|█████████▊| 184/188 [00:04<00:00, 37.58it/s]\u001b[A\n",
      "Validation DataLoader 0:  98%|█████████▊| 185/188 [00:04<00:00, 37.58it/s]\u001b[A\n",
      "Validation DataLoader 0:  99%|█████████▉| 186/188 [00:04<00:00, 37.57it/s]\u001b[A\n",
      "Validation DataLoader 0:  99%|█████████▉| 187/188 [00:04<00:00, 37.53it/s]\u001b[A\n",
      "Validation DataLoader 0: 100%|██████████| 188/188 [00:05<00:00, 37.54it/s]\u001b[A\n",
      "Epoch 2: 100%|██████████| 188/188 [00:21<00:00,  8.85it/s, v_num=zk7b, val_loss=8.18e-6, val_acc=1.000]"
     ]
    },
    {
     "name": "stderr",
     "output_type": "stream",
     "text": [
      "`Trainer.fit` stopped: `max_epochs=3` reached.\n"
     ]
    },
    {
     "name": "stdout",
     "output_type": "stream",
     "text": [
      "Epoch 2: 100%|██████████| 188/188 [00:21<00:00,  8.81it/s, v_num=zk7b, val_loss=8.18e-6, val_acc=1.000]\n"
     ]
    }
   ],
   "source": [
    "# Train the model\n",
    "trainer.fit(model = model, train_dataloaders = train_loader, val_dataloaders=val_loader)"
   ]
  },
  {
   "cell_type": "code",
   "execution_count": 16,
   "id": "f77fb886-1d4a-46cf-8798-c355b939911c",
   "metadata": {},
   "outputs": [
    {
     "name": "stderr",
     "output_type": "stream",
     "text": [
      "Restoring states from the checkpoint path at .\\TSC\\yfhyzk7b\\checkpoints\\epoch=2-step=564.ckpt\n",
      "LOCAL_RANK: 0 - CUDA_VISIBLE_DEVICES: [0]\n",
      "Loaded model weights from the checkpoint at .\\TSC\\yfhyzk7b\\checkpoints\\epoch=2-step=564.ckpt\n"
     ]
    },
    {
     "name": "stdout",
     "output_type": "stream",
     "text": [
      "Testing DataLoader 0: 100%|██████████| 63/63 [00:01<00:00, 40.60it/s]\n",
      "────────────────────────────────────────────────────────────────────────────────────────────────────────────────────────\n",
      "       Test metric             DataLoader 0\n",
      "────────────────────────────────────────────────────────────────────────────────────────────────────────────────────────\n",
      "        test_acc                    1.0\n",
      "        test_loss          8.192387213057373e-06\n",
      "────────────────────────────────────────────────────────────────────────────────────────────────────────────────────────\n"
     ]
    },
    {
     "data": {
      "text/plain": [
       "[{'test_loss': 8.192387213057373e-06, 'test_acc': 1.0}]"
      ]
     },
     "execution_count": 16,
     "metadata": {},
     "output_type": "execute_result"
    }
   ],
   "source": [
    "# Evaluate the model on the held-out test set \n",
    "trainer.test(dataloaders=test_loader)"
   ]
  },
  {
   "cell_type": "code",
   "execution_count": 17,
   "id": "c9e9524c-e63b-4165-b3b4-a1cf5d112873",
   "metadata": {},
   "outputs": [
    {
     "data": {
      "text/html": [
       "<style>\n",
       "    table.wandb td:nth-child(1) { padding: 0 10px; text-align: left ; width: auto;} td:nth-child(2) {text-align: left ; width: 100%}\n",
       "    .wandb-row { display: flex; flex-direction: row; flex-wrap: wrap; justify-content: flex-start; width: 100% }\n",
       "    .wandb-col { display: flex; flex-direction: column; flex-basis: 100%; flex: 1; padding: 10px; }\n",
       "    </style>\n",
       "<div class=\"wandb-row\"><div class=\"wandb-col\"><h3>Run history:</h3><br/><table class=\"wandb\"><tr><td>epoch</td><td>▁▁▁▁▁▃▃▃▃▃▃▆▆▆▆▆▆█</td></tr><tr><td>test_acc</td><td>▁</td></tr><tr><td>test_loss</td><td>▁</td></tr><tr><td>train_acc_epoch</td><td>▁██</td></tr><tr><td>train_acc_step</td><td>▁▁▁▁▁▁▁▁▁▁▁</td></tr><tr><td>train_loss_epoch</td><td>█▁▁</td></tr><tr><td>train_loss_step</td><td>█▇▄▃▂▂▁▁▁▁▁</td></tr><tr><td>trainer/global_step</td><td>▁▂▂▃▃▃▄▄▅▅▅▆▆▇████</td></tr><tr><td>val_acc</td><td>▁▁▁</td></tr><tr><td>val_loss</td><td>█▃▁</td></tr></table><br/></div><div class=\"wandb-col\"><h3>Run summary:</h3><br/><table class=\"wandb\"><tr><td>epoch</td><td>3</td></tr><tr><td>test_acc</td><td>1.0</td></tr><tr><td>test_loss</td><td>1e-05</td></tr><tr><td>train_acc_epoch</td><td>1.0</td></tr><tr><td>train_acc_step</td><td>1.0</td></tr><tr><td>train_loss_epoch</td><td>1e-05</td></tr><tr><td>train_loss_step</td><td>1e-05</td></tr><tr><td>trainer/global_step</td><td>564</td></tr><tr><td>val_acc</td><td>1.0</td></tr><tr><td>val_loss</td><td>1e-05</td></tr></table><br/></div></div>"
      ],
      "text/plain": [
       "<IPython.core.display.HTML object>"
      ]
     },
     "metadata": {},
     "output_type": "display_data"
    },
    {
     "data": {
      "text/html": [
       " View run <strong style=\"color:#cdcd00\">ConvTran on toy datasetLite</strong> at: <a href='https://wandb.ai/zimran-c01-hack/TSC/runs/yfhyzk7b' target=\"_blank\">https://wandb.ai/zimran-c01-hack/TSC/runs/yfhyzk7b</a><br/> View project at: <a href='https://wandb.ai/zimran-c01-hack/TSC' target=\"_blank\">https://wandb.ai/zimran-c01-hack/TSC</a><br/>Synced 6 W&B file(s), 0 media file(s), 0 artifact file(s) and 0 other file(s)"
      ],
      "text/plain": [
       "<IPython.core.display.HTML object>"
      ]
     },
     "metadata": {},
     "output_type": "display_data"
    },
    {
     "data": {
      "text/html": [
       "Find logs at: <code>.\\wandb\\run-20240521_154544-yfhyzk7b\\logs</code>"
      ],
      "text/plain": [
       "<IPython.core.display.HTML object>"
      ]
     },
     "metadata": {},
     "output_type": "display_data"
    }
   ],
   "source": [
    "# Close wandb run\n",
    "wandb.finish()"
   ]
  },
  {
   "cell_type": "code",
   "execution_count": null,
   "id": "a4e39a6d-8ae8-41f8-b759-5df0b6ca7f0d",
   "metadata": {},
   "outputs": [],
   "source": []
  }
 ],
 "metadata": {
  "kernelspec": {
   "display_name": "Python 3 (ipykernel)",
   "language": "python",
   "name": "python3"
  },
  "language_info": {
   "codemirror_mode": {
    "name": "ipython",
    "version": 3
   },
   "file_extension": ".py",
   "mimetype": "text/x-python",
   "name": "python",
   "nbconvert_exporter": "python",
   "pygments_lexer": "ipython3",
   "version": "3.8.19"
  }
 },
 "nbformat": 4,
 "nbformat_minor": 5
}
